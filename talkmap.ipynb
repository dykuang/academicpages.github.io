{
 "cells": [
  {
   "cell_type": "markdown",
   "metadata": {},
   "source": [
    "# Leaflet cluster map of talk locations\n",
    "\n",
    "Run this from the _talks/ directory, which contains .md files of all your talks. This scrapes the location YAML field from each .md file, geolocates it with geopy/Nominatim, and uses the getorg library to output data, HTML, and Javascript for a standalone cluster map."
   ]
  },
  {
   "cell_type": "code",
   "execution_count": 1,
   "metadata": {},
   "outputs": [
    {
     "name": "stdout",
     "output_type": "stream",
     "text": [
      "Requirement already up-to-date: pip in c:\\users\\dongyang\\software\\anaconda\\lib\\site-packages (10.0.1)\n",
      "Requirement already up-to-date: getorg in c:\\users\\dongyang\\software\\anaconda\\lib\\site-packages (0.3.1)\n",
      "Requirement not upgraded as not directly required: pygithub in c:\\users\\dongyang\\software\\anaconda\\lib\\site-packages (from getorg) (1.39)\n",
      "Requirement not upgraded as not directly required: retrying in c:\\users\\dongyang\\software\\anaconda\\lib\\site-packages (from getorg) (1.3.3)\n",
      "Requirement not upgraded as not directly required: geopy in c:\\users\\dongyang\\software\\anaconda\\lib\\site-packages (from getorg) (1.13.0)\n",
      "Requirement not upgraded as not directly required: pyjwt in c:\\users\\dongyang\\software\\anaconda\\lib\\site-packages (from pygithub->getorg) (1.6.1)\n",
      "Requirement not upgraded as not directly required: six>=1.7.0 in c:\\users\\dongyang\\software\\anaconda\\lib\\site-packages (from retrying->getorg) (1.10.0)\n",
      "Requirement not upgraded as not directly required: geographiclib<2,>=1.49 in c:\\users\\dongyang\\software\\anaconda\\lib\\site-packages (from geopy->getorg) (1.49)\n",
      "IPywidgets and ipyleaflet support enabled.\n"
     ]
    }
   ],
   "source": [
    "!python -m pip install --upgrade pip\n",
    "!pip install getorg --upgrade\n",
    "import glob\n",
    "import getorg\n",
    "from geopy import Nominatim"
   ]
  },
  {
   "cell_type": "code",
   "execution_count": 7,
   "metadata": {},
   "outputs": [
    {
     "data": {
      "text/plain": [
       "['C:\\\\Users\\\\Dongyang\\\\github\\\\dykuang.github.io\\\\_talks\\\\Chatham.md',\n",
       " 'C:\\\\Users\\\\Dongyang\\\\github\\\\dykuang.github.io\\\\_talks\\\\RMMC2016.md',\n",
       " 'C:\\\\Users\\\\Dongyang\\\\github\\\\dykuang.github.io\\\\_talks\\\\Uottawa.md']"
      ]
     },
     "execution_count": 7,
     "metadata": {},
     "output_type": "execute_result"
    }
   ],
   "source": [
    "g = glob.glob(\"C:\\\\Users\\\\Dongyang\\\\github\\\\dykuang.github.io\\\\_talks\\\\*.md\")\n",
    "g"
   ]
  },
  {
   "cell_type": "code",
   "execution_count": 8,
   "metadata": {},
   "outputs": [],
   "source": [
    "geocoder = Nominatim()\n",
    "location_dict = {}\n",
    "location = \"\"\n",
    "permalink = \"\"\n",
    "title = \"\""
   ]
  },
  {
   "cell_type": "code",
   "execution_count": 9,
   "metadata": {},
   "outputs": [
    {
     "name": "stdout",
     "output_type": "stream",
     "text": [
      "Pittsburgh, Pennsylvania, USA \n",
      " PGH, Allegheny County, Pennsylvania, United States of America\n",
      "Laramie, WY \n",
      " Laramie, Albany County, Wyoming, United States of America\n",
      "Ottawa, Ontario, Canada \n",
      " Ottawa, Ontario, Canada\n"
     ]
    }
   ],
   "source": [
    "for file in g:\n",
    "    with open(file, 'r') as f:\n",
    "        lines = f.read()\n",
    "        if lines.find('location: \"') > 1:\n",
    "            loc_start = lines.find('location: \"') + 11\n",
    "            lines_trim = lines[loc_start:]\n",
    "            loc_end = lines_trim.find('\"')\n",
    "            location = lines_trim[:loc_end]\n",
    "                            \n",
    "           \n",
    "        location_dict[location] = geocoder.geocode(location)\n",
    "        print(location, \"\\n\", location_dict[location])\n"
   ]
  },
  {
   "cell_type": "code",
   "execution_count": 10,
   "metadata": {},
   "outputs": [
    {
     "data": {
      "text/plain": [
       "'Written map to ../talkmap/'"
      ]
     },
     "execution_count": 10,
     "metadata": {},
     "output_type": "execute_result"
    }
   ],
   "source": [
    "m = getorg.orgmap.create_map_obj()\n",
    "getorg.orgmap.output_html_cluster_map(location_dict, folder_name=\"talkmap\", hashed_usernames=False)"
   ]
  },
  {
   "cell_type": "code",
   "execution_count": null,
   "metadata": {
    "collapsed": true
   },
   "outputs": [],
   "source": []
  }
 ],
 "metadata": {
  "anaconda-cloud": {},
  "kernelspec": {
   "display_name": "Python 3",
   "language": "python",
   "name": "python3"
  },
  "language_info": {
   "codemirror_mode": {
    "name": "ipython",
    "version": 3
   },
   "file_extension": ".py",
   "mimetype": "text/x-python",
   "name": "python",
   "nbconvert_exporter": "python",
   "pygments_lexer": "ipython3",
   "version": "3.6.2"
  }
 },
 "nbformat": 4,
 "nbformat_minor": 1
}
