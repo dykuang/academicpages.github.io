{
 "cells": [
  {
   "cell_type": "markdown",
   "metadata": {},
   "source": [
    "# Leaflet cluster map of talk locations\n",
    "\n",
    "Run this from the _talks/ directory, which contains .md files of all your talks. This scrapes the location YAML field from each .md file, geolocates it with geopy/Nominatim, and uses the getorg library to output data, HTML, and Javascript for a standalone cluster map."
   ]
  },
  {
   "cell_type": "code",
   "execution_count": 2,
   "metadata": {},
   "outputs": [
    {
     "name": "stdout",
     "output_type": "stream",
     "text": [
      "Requirement already up-to-date: pip in c:\\users\\dykua\\anaconda3\\lib\\site-packages (19.2.1)\n",
      "Requirement already up-to-date: getorg in c:\\users\\dykua\\anaconda3\\lib\\site-packages (0.3.1)\n",
      "Requirement already satisfied, skipping upgrade: retrying in c:\\users\\dykua\\anaconda3\\lib\\site-packages (from getorg) (1.3.3)\n",
      "Requirement already satisfied, skipping upgrade: pygithub in c:\\users\\dykua\\anaconda3\\lib\\site-packages (from getorg) (1.43.3)\n",
      "Requirement already satisfied, skipping upgrade: geopy in c:\\users\\dykua\\anaconda3\\lib\\site-packages (from getorg) (1.18.0)\n",
      "Requirement already satisfied, skipping upgrade: six>=1.7.0 in c:\\users\\dykua\\anaconda3\\lib\\site-packages (from retrying->getorg) (1.12.0)\n",
      "Requirement already satisfied, skipping upgrade: Deprecated in c:\\users\\dykua\\anaconda3\\lib\\site-packages (from pygithub->getorg) (1.2.4)\n",
      "Requirement already satisfied, skipping upgrade: requests>=2.14.0 in c:\\users\\dykua\\anaconda3\\lib\\site-packages (from pygithub->getorg) (2.21.0)\n",
      "Requirement already satisfied, skipping upgrade: pyjwt in c:\\users\\dykua\\anaconda3\\lib\\site-packages (from pygithub->getorg) (1.7.1)\n",
      "Requirement already satisfied, skipping upgrade: geographiclib<2,>=1.49 in c:\\users\\dykua\\anaconda3\\lib\\site-packages (from geopy->getorg) (1.49)\n",
      "Requirement already satisfied, skipping upgrade: wrapt<2,>=1 in c:\\users\\dykua\\anaconda3\\lib\\site-packages (from Deprecated->pygithub->getorg) (1.10.11)\n",
      "Requirement already satisfied, skipping upgrade: chardet<3.1.0,>=3.0.2 in c:\\users\\dykua\\anaconda3\\lib\\site-packages (from requests>=2.14.0->pygithub->getorg) (3.0.4)\n",
      "Requirement already satisfied, skipping upgrade: certifi>=2017.4.17 in c:\\users\\dykua\\anaconda3\\lib\\site-packages (from requests>=2.14.0->pygithub->getorg) (2019.3.9)\n",
      "Requirement already satisfied, skipping upgrade: idna<2.9,>=2.5 in c:\\users\\dykua\\anaconda3\\lib\\site-packages (from requests>=2.14.0->pygithub->getorg) (2.8)\n",
      "Requirement already satisfied, skipping upgrade: urllib3<1.25,>=1.21.1 in c:\\users\\dykua\\anaconda3\\lib\\site-packages (from requests>=2.14.0->pygithub->getorg) (1.24.1)\n",
      "IPywidgets and ipyleaflet support enabled.\n"
     ]
    }
   ],
   "source": [
    "!python -m pip install --upgrade pip\n",
    "!pip install getorg --upgrade\n",
    "import glob\n",
    "import getorg\n",
    "from geopy import Nominatim"
   ]
  },
  {
   "cell_type": "code",
   "execution_count": 7,
   "metadata": {},
   "outputs": [
    {
     "data": {
      "text/plain": [
       "['C:\\\\Users\\\\dykua\\\\github\\\\dykuang.github.io\\\\_talks\\\\Banff.md',\n",
       " 'C:\\\\Users\\\\dykua\\\\github\\\\dykuang.github.io\\\\_talks\\\\Chatham.md',\n",
       " 'C:\\\\Users\\\\dykua\\\\github\\\\dykuang.github.io\\\\_talks\\\\NRC.md',\n",
       " 'C:\\\\Users\\\\dykua\\\\github\\\\dykuang.github.io\\\\_talks\\\\RMMC2016.md',\n",
       " 'C:\\\\Users\\\\dykua\\\\github\\\\dykuang.github.io\\\\_talks\\\\Uottawa.md']"
      ]
     },
     "execution_count": 7,
     "metadata": {},
     "output_type": "execute_result"
    }
   ],
   "source": [
    "g = glob.glob(\"C:\\\\Users\\\\dykua\\\\github\\\\dykuang.github.io\\\\_talks\\\\*.md\")\n",
    "g"
   ]
  },
  {
   "cell_type": "code",
   "execution_count": 8,
   "metadata": {},
   "outputs": [],
   "source": [
    "geocoder = Nominatim(user_agent=\"my-application\")\n",
    "location_dict = {}\n",
    "location = \"\"\n",
    "permalink = \"\"\n",
    "title = \"\""
   ]
  },
  {
   "cell_type": "code",
   "execution_count": 9,
   "metadata": {},
   "outputs": [
    {
     "name": "stdout",
     "output_type": "stream",
     "text": [
      "Banff, Alberta, Canada \n",
      " Banff, Alberta, T1L 1A6, Canada\n",
      "Pittsburgh, Pennsylvania, USA \n",
      " PGH, Allegheny County, Pennsylvania, USA\n",
      "Ottawa, Ontario, Canada \n",
      " Ottawa, Eastern Ontario, Ontario, K1P 1J1, Canada\n",
      "Laramie, WY \n",
      " Laramie, Albany County, Wyoming, USA\n",
      "Ottawa, Ontario, Canada \n",
      " Ottawa, Eastern Ontario, Ontario, K1P 1J1, Canada\n"
     ]
    }
   ],
   "source": [
    "for file in g:\n",
    "    with open(file, 'r') as f:\n",
    "        lines = f.read()\n",
    "        if lines.find('location: \"') > 1:\n",
    "            loc_start = lines.find('location: \"') + 11\n",
    "            lines_trim = lines[loc_start:]\n",
    "            loc_end = lines_trim.find('\"')\n",
    "            location = lines_trim[:loc_end]\n",
    "                            \n",
    "           \n",
    "        location_dict[location] = geocoder.geocode(location)\n",
    "        print(location, \"\\n\", location_dict[location])\n"
   ]
  },
  {
   "cell_type": "code",
   "execution_count": 10,
   "metadata": {},
   "outputs": [
    {
     "data": {
      "text/plain": [
       "'Written map to talkmap/'"
      ]
     },
     "execution_count": 10,
     "metadata": {},
     "output_type": "execute_result"
    }
   ],
   "source": [
    "m = getorg.orgmap.create_map_obj()\n",
    "getorg.orgmap.output_html_cluster_map(location_dict, folder_name=\"talkmap\", hashed_usernames=False)"
   ]
  },
  {
   "cell_type": "code",
   "execution_count": 12,
   "metadata": {},
   "outputs": [
    {
     "data": {
      "text/plain": [
       "{'Banff, Alberta, Canada': Location(Banff, Alberta, T1L 1A6, Canada, (51.1777781, -115.5682504, 0.0)),\n",
       " 'Laramie, WY': Location(Laramie, Albany County, Wyoming, USA, (41.311367, -105.591101, 0.0)),\n",
       " 'Ottawa, Ontario, Canada': Location(Ottawa, Eastern Ontario, Ontario, K1P 1J1, Canada, (45.421106, -75.690308, 0.0)),\n",
       " 'Pittsburgh, Pennsylvania, USA': Location(PGH, Allegheny County, Pennsylvania, USA, (40.4416941, -79.9900861, 0.0))}"
      ]
     },
     "execution_count": 12,
     "metadata": {},
     "output_type": "execute_result"
    }
   ],
   "source": [
    "location_dict"
   ]
  },
  {
   "cell_type": "code",
   "execution_count": null,
   "metadata": {
    "collapsed": true
   },
   "outputs": [],
   "source": []
  }
 ],
 "metadata": {
  "anaconda-cloud": {},
  "kernelspec": {
   "display_name": "Python 3",
   "language": "python",
   "name": "python3"
  },
  "language_info": {
   "codemirror_mode": {
    "name": "ipython",
    "version": 3
   },
   "file_extension": ".py",
   "mimetype": "text/x-python",
   "name": "python",
   "nbconvert_exporter": "python",
   "pygments_lexer": "ipython3",
   "version": "3.6.4"
  }
 },
 "nbformat": 4,
 "nbformat_minor": 1
}
